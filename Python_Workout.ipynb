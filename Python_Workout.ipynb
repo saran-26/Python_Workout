{
  "nbformat": 4,
  "nbformat_minor": 0,
  "metadata": {
    "colab": {
      "provenance": [],
      "authorship_tag": "ABX9TyO9K4DseMvt2pRwI1zaxA9L",
      "include_colab_link": true
    },
    "kernelspec": {
      "name": "python3",
      "display_name": "Python 3"
    },
    "language_info": {
      "name": "python"
    }
  },
  "cells": [
    {
      "cell_type": "markdown",
      "metadata": {
        "id": "view-in-github",
        "colab_type": "text"
      },
      "source": [
        "<a href=\"https://colab.research.google.com/github/saran-26/Python_Workout/blob/main/Python_Workout.ipynb\" target=\"_parent\"><img src=\"https://colab.research.google.com/assets/colab-badge.svg\" alt=\"Open In Colab\"/></a>"
      ]
    },
    {
      "cell_type": "markdown",
      "source": [
        "**Arithmetic Operators:**\n",
        "\n",
        "The provided code stub reads two integers from STDIN,  and . Add code to print three lines where:\n",
        "\n",
        "1. The first line contains the sum of the two numbers.\n",
        "2. The second line contains the difference of the two numbers (first - second).\n",
        "3. The third line contains the product of the two numbers.\n",
        "Example\n",
        "a = 3\n",
        "b = 5\n",
        "\n",
        "Print the following:\n",
        "\n",
        "8\n",
        "\n",
        "-2\n",
        "\n",
        "15"
      ],
      "metadata": {
        "id": "6f-Cu55t11BR"
      }
    },
    {
      "cell_type": "code",
      "execution_count": null,
      "metadata": {
        "colab": {
          "base_uri": "https://localhost:8080/"
        },
        "id": "_qQ5SlNX1v4p",
        "outputId": "b4980e05-10f0-46bd-cead-a49139fb160c"
      },
      "outputs": [
        {
          "output_type": "stream",
          "name": "stdout",
          "text": [
            "3\n",
            "5\n",
            "\n",
            "\n",
            "8\n",
            "-2\n",
            "15\n"
          ]
        }
      ],
      "source": [
        "if __name__ == '__main__':\n",
        "    a = int(input())\n",
        "    b = int(input())\n",
        "    print('\\n')\n",
        "    print(a+b)\n",
        "    print(a-b)\n",
        "    print(a*b)"
      ]
    },
    {
      "cell_type": "markdown",
      "source": [
        "**Loops:**\n",
        "\n",
        "The provided code stub reads and integer,n , from STDIN. For all non-negative i < n integers , print i².\n",
        "\n",
        "Example\n",
        "\n",
        "n = 3\n",
        "\n",
        "The list of non-negative integers that are less than n = 3 is [0, 1, 2]. Print the square of each number on a separate line.\n",
        "\n",
        "0\n",
        "\n",
        "1\n",
        "\n",
        "4"
      ],
      "metadata": {
        "id": "jkyFdOQ-3qEf"
      }
    },
    {
      "cell_type": "code",
      "source": [
        "if __name__ == '__main__':\n",
        "    n=int(input())\n",
        "    print('\\n')\n",
        "    for i in range(0,n):\n",
        "        print(i**2)"
      ],
      "metadata": {
        "colab": {
          "base_uri": "https://localhost:8080/"
        },
        "id": "Q7yZ6TOg34QZ",
        "outputId": "6bf7a8fd-3464-4e13-90d6-c5cd4e0dc835"
      },
      "execution_count": null,
      "outputs": [
        {
          "output_type": "stream",
          "name": "stdout",
          "text": [
            "5\n",
            "\n",
            "\n",
            "0\n",
            "1\n",
            "4\n",
            "9\n",
            "16\n"
          ]
        }
      ]
    },
    {
      "cell_type": "markdown",
      "source": [
        "**Write a Function:**\n",
        "\n",
        "An extra day is added to the calendar almost every four years as February 29, and the day is called a leap day. It corrects the calendar for the fact that our planet takes approximately 365.25 days to orbit the sun. A leap year contains a leap day.\n",
        "\n",
        "In the Gregorian calendar, three conditions are used to identify leap years:\n",
        "\n",
        "The year can be evenly divided by 4, is a leap year, unless:\n",
        "The year can be evenly divided by 100, it is NOT a leap year, unless:\n",
        "The year is also evenly divisible by 400. Then it is a leap year.\n",
        "This means that in the Gregorian calendar, the years 2000 and 2400 are leap years, while 1800, 1900, 2100, 2200, 2300 and 2500 are NOT leap years. Source\n",
        "\n",
        "Task\n",
        "\n",
        "Given a year, determine whether it is a leap year. If it is a leap year, return the Boolean True, otherwise return False.\n",
        "\n",
        "Note that the code stub provided reads from STDIN and passes arguments to the is_leap function. It is only necessary to complete the is_leap function."
      ],
      "metadata": {
        "id": "C6n9Wjp54ett"
      }
    },
    {
      "cell_type": "code",
      "source": [
        "def is_leap(year):\n",
        "    leap = False\n",
        "    if year % 4 == 0:\n",
        "        if (year % 400 == 0 or year % 100 != 0):\n",
        "            leap = True\n",
        "    return leap\n",
        "year = int(input())\n",
        "print(is_leap(year))"
      ],
      "metadata": {
        "colab": {
          "base_uri": "https://localhost:8080/"
        },
        "id": "4QydRp4s6Uoy",
        "outputId": "604d390b-62e1-4b79-8483-0bd3fc5967dd"
      },
      "execution_count": null,
      "outputs": [
        {
          "output_type": "stream",
          "name": "stdout",
          "text": [
            "2004\n",
            "True\n"
          ]
        }
      ]
    },
    {
      "cell_type": "markdown",
      "source": [
        "**What's your name?:**\n",
        "\n",
        "You are given the firstname and lastname of a person on two different lines. Your task is to read them and print the following:\n",
        "\n",
        "Hello firstname lastname! You just delved into python.\n",
        "\n",
        "Function Description\n",
        "\n",
        "Complete the print_full_name function in the editor below.\n",
        "\n",
        "print_full_name has the following parameters:\n",
        "\n",
        "string first: the first name\n",
        "string last: the last name\n",
        "\n",
        "Prints\n",
        "\n",
        "string: 'Hello firstname lastname! You just delved into python' where  and  are replaced with  and .\n",
        "\n",
        "Input Format\n",
        "\n",
        "The first line contains the first name, and the second line contains the last name."
      ],
      "metadata": {
        "id": "ZdNkRQnF6doM"
      }
    },
    {
      "cell_type": "code",
      "source": [
        "def print_full_name(first, last):\n",
        "    string = print('Hello', first_name,last_name+'! You just delved into python.')\n",
        "    return string\n",
        "if __name__ == '__main__':\n",
        "    first_name = input()\n",
        "    last_name = input()\n",
        "    print_full_name(first_name, last_name)"
      ],
      "metadata": {
        "colab": {
          "base_uri": "https://localhost:8080/"
        },
        "id": "NZ6p3SF_6dxU",
        "outputId": "63531ba3-944f-442b-a2fd-adb51e8f98d0"
      },
      "execution_count": null,
      "outputs": [
        {
          "output_type": "stream",
          "name": "stdout",
          "text": [
            "Ross\n",
            "Taylor\n",
            "Hello Ross Taylor! You just delved into python.\n"
          ]
        }
      ]
    },
    {
      "cell_type": "markdown",
      "source": [
        "**String Validators:**\n",
        "\n",
        "You are given a string S.\n",
        "Your task is to find out if the string S contains: alphanumeric characters, alphabetical characters, digits, lowercase and uppercase characters.\n",
        "\n",
        "Input Format\n",
        "\n",
        "A single line containing a string .\n",
        "\n",
        "\n",
        "Output Format\n",
        "\n",
        "In the first line, print True if S has any alphanumeric characters. Otherwise, print False.\n",
        "In the second line, print True if S has any alphabetical characters. Otherwise, print False.\n",
        "In the third line, print True if S has any digits. Otherwise, print False.\n",
        "In the fourth line, print True if S has any lowercase characters. Otherwise, print False.\n",
        "In the fifth line, print True if S has any uppercase characters. Otherwise, print False."
      ],
      "metadata": {
        "id": "SargDiXR8ihK"
      }
    },
    {
      "cell_type": "code",
      "source": [
        "if __name__ == '__main__':\n",
        "    S=input()\n",
        "    isalnum=any(s.isalnum() for s in S)\n",
        "    print(isalnum)\n",
        "    isalpha=any(s.isalpha() for s in S)\n",
        "    print(isalpha)\n",
        "    isdigit = any(s.isdigit() for s in S)\n",
        "    print(isdigit)\n",
        "    islower = any(s.islower() for s in S)\n",
        "    print(islower)\n",
        "    isupper = any(s.isupper() for s in S)\n",
        "    print(isupper)"
      ],
      "metadata": {
        "colab": {
          "base_uri": "https://localhost:8080/"
        },
        "id": "wNy9sgy48img",
        "outputId": "2beeadd1-08f3-497f-add3-be310c6dbf44"
      },
      "execution_count": null,
      "outputs": [
        {
          "output_type": "stream",
          "name": "stdout",
          "text": [
            "qA2\n",
            "True\n",
            "True\n",
            "True\n",
            "True\n",
            "True\n"
          ]
        }
      ]
    },
    {
      "cell_type": "markdown",
      "source": [
        "**Python If-Else:**\n",
        "\n",
        "Given an integer, n, perform the following conditional actions:\n",
        "\n",
        "If n is odd, print Weird\n",
        "If n is even and in the inclusive range of 2 to 5, print Not Weird\n",
        "If n is even and in the inclusive range of 6 to 20, print Weird\n",
        "If n is even and greater than 20, print Not Weird\n",
        "Input Format\n",
        "\n",
        "A single line containing a positive integer, n.\n",
        "\n",
        "Output Format\n",
        "\n",
        "Print Weird if the number is weird. Otherwise, print Not Weird."
      ],
      "metadata": {
        "id": "dHTDA633OsI8"
      }
    },
    {
      "cell_type": "code",
      "source": [
        "if __name__ == '__main__':\n",
        "    n = int(input().strip())\n",
        "    if n % 2 != 0:\n",
        "        print(\"Weird\")\n",
        "    elif 2 <= n <= 5:\n",
        "        print(\"Not Weird\")\n",
        "    elif 6 <= n <= 20:\n",
        "        print(\"Weird\")\n",
        "    else:\n",
        "        print(\"Not Weird\")"
      ],
      "metadata": {
        "colab": {
          "base_uri": "https://localhost:8080/"
        },
        "id": "RvNzHejgOsQu",
        "outputId": "fb63d67f-653c-483a-f2f6-2993044e36e8"
      },
      "execution_count": null,
      "outputs": [
        {
          "output_type": "stream",
          "name": "stdout",
          "text": [
            "3\n",
            "Weird\n"
          ]
        }
      ]
    },
    {
      "cell_type": "markdown",
      "source": [
        "**Print Function:**\n",
        "\n",
        "The included code stub will read an integer, n, from STDIN.\n",
        "\n",
        "Without using any string methods, try to print the following:\n",
        "123...n\n",
        "\n",
        "Note that \"...\" represents the consecutive values in between.\n",
        "\n",
        "Example\n",
        "\n",
        "n = 5\n",
        "\n",
        "Print the string 12345.\n",
        "\n",
        "Input Format\n",
        "\n",
        "The first line contains an integer n.\n",
        "\n",
        "\n",
        "Output Format\n",
        "\n",
        "Print the list of integers from 1 through n as a string, without spaces."
      ],
      "metadata": {
        "id": "4ehj4-VlO3Jm"
      }
    },
    {
      "cell_type": "code",
      "source": [
        "if __name__ == '__main__':\n",
        "  n=int(input())\n",
        "  for i in range(1,n+1):\n",
        "      print(i,end=\"\")\n"
      ],
      "metadata": {
        "colab": {
          "base_uri": "https://localhost:8080/"
        },
        "id": "XNeQ0QOPVJbU",
        "outputId": "7a081be7-2dae-422f-ea45-67452e9186d5"
      },
      "execution_count": null,
      "outputs": [
        {
          "output_type": "stream",
          "name": "stdout",
          "text": [
            "5\n",
            "12345"
          ]
        }
      ]
    },
    {
      "cell_type": "markdown",
      "source": [
        "**Python Division:**\n",
        "\n",
        "The provided code stub reads two integers, a and b, from STDIN.\n",
        "\n",
        "Add logic to print two lines. The first line should contain the result of integer division, a // b. The second line should contain the result of float division, a / b.\n",
        "\n",
        "No rounding or formatting is necessary.\n",
        "\n",
        "Example\n",
        "\n",
        "\n",
        "The result of the integer division 3//5=0.\n",
        "The result of the float division is 3/5=0.6.\n",
        "Print:\n",
        "\n",
        "0\n",
        "\n",
        "0.6\n",
        "\n",
        "Input Format\n",
        "\n",
        "The first line contains the first integer, a.\n",
        "The second line contains the second integer, b.\n",
        "\n",
        "Output Format\n",
        "\n",
        "Print the two lines as described above."
      ],
      "metadata": {
        "id": "5Vf_mgT9W6o0"
      }
    },
    {
      "cell_type": "code",
      "source": [
        "if __name__ == '__main__':\n",
        "    a = int(input())\n",
        "    b = int(input())\n",
        "    print(a//b)\n",
        "    print(a/b)"
      ],
      "metadata": {
        "colab": {
          "base_uri": "https://localhost:8080/"
        },
        "id": "gjxkDDqoW6wO",
        "outputId": "2515603f-8d02-4d85-ab68-4a81c2d998e6"
      },
      "execution_count": null,
      "outputs": [
        {
          "output_type": "stream",
          "name": "stdout",
          "text": [
            "4\n",
            "3\n",
            "1\n",
            "1.3333333333333333\n"
          ]
        }
      ]
    },
    {
      "cell_type": "markdown",
      "source": [
        "**Finding the Percentage:**\n",
        "\n",
        "The provided code stub will read in a dictionary containing key/value pairs of name:[marks] for a list of students. Print the average of the marks array for the student name provided, showing 2 places after the decimal.\n",
        "\n",
        "Example\n",
        "marks key:value pairs are\n",
        "'alpha': [20, 30,40]\n",
        "'beta': [30, 50, 70]\n",
        "query_name = 'beta'\n",
        "The query_name is 'beta'. beta's average score is .\n",
        "(30 + 50 + 70)/3 = 50.0\n",
        "Input Format\n",
        "\n",
        "The first line contains the integer n, the number of students' records. The next n lines contain the names and marks obtained by a student, each value separated by a space. The final line contains query_name, the name of a student to query.\n",
        "\n",
        "Output Format\n",
        "\n",
        "Print one line: The average of the marks obtained by the particular student correct to 2 decimal places.\n",
        "\n",
        "Sample Input 0\n",
        "\n",
        "3\n",
        "Krishna 67 68 69\n",
        "Arjun 70 98 63\n",
        "Malika 52 56 60\n",
        "Malika\n",
        "Sample Output 0\n",
        "\n",
        "56.00"
      ],
      "metadata": {
        "id": "Wdir_EcoX4ls"
      }
    },
    {
      "cell_type": "code",
      "source": [
        "if __name__ == '__main__':\n",
        "    n = int(input())\n",
        "    student_marks = {}\n",
        "    for _ in range(n):\n",
        "        name, *line = input().split()\n",
        "        scores = list(map(float, line))\n",
        "        student_marks[name] = scores\n",
        "    query_name = input()\n",
        "    marks = student_marks[query_name]\n",
        "    average = sum(marks) / len(marks)\n",
        "    print(f\"{average:.2f}\")\n"
      ],
      "metadata": {
        "colab": {
          "base_uri": "https://localhost:8080/"
        },
        "id": "XhAZ8vn9X4v2",
        "outputId": "56056e64-8e2d-44af-e173-23bac3f46187"
      },
      "execution_count": null,
      "outputs": [
        {
          "output_type": "stream",
          "name": "stdout",
          "text": [
            "3\n",
            "Krishna 67 68 69\n",
            "Arjun 70 98 63\n",
            "Malika 52 56 60\n",
            "Malika\n",
            "56.00\n"
          ]
        }
      ]
    },
    {
      "cell_type": "markdown",
      "source": [
        "**Lists:**\n",
        "\n",
        "Consider a list (list = []). You can perform the following commands:\n",
        "\n",
        "1. insert i e: Insert integer e at position i.\n",
        "2. print: Print the list.\n",
        "3. remove e: Delete the first occurrence of integer e.\n",
        "4. append e: Insert integer e at the end of the list.\n",
        "5. sort: Sort the list.\n",
        "6. pop: Pop the last element from the list.\n",
        "7. reverse: Reverse the list.\n",
        "Initialize your list and read in the value of n followed by n lines of commands where each command will be of the 7 types listed above. Iterate through each command in order and perform the corresponding operation on your list.\n",
        "\n",
        "Example\n",
        "N = 4\n",
        "append 1\n",
        "append 2\n",
        "insert 3 1\n",
        "print\n",
        "append 1: Append 1 to the list, arr = [1].\n",
        "append 2: Append 2 to the list, arr = [1, 2].\n",
        "insert 3 1: Insert 3 at index , arr = [1, 3, 2].\n",
        "print: Print the array.\n",
        "Output:\n",
        "[1, 3, 2]\n",
        "Input Format\n",
        "\n",
        "The first line contains an integer, n, denoting the number of commands.\n",
        "Each line i of the n subsequent lines contains one of the commands described above.\n",
        "\n",
        "The elements added to the list must be integers.\n",
        "Output Format\n",
        "\n",
        "For each command of type print, print the list on a new line.\n"
      ],
      "metadata": {
        "id": "H53rRTMFZurr"
      }
    },
    {
      "cell_type": "code",
      "source": [
        "if __name__ == '__main__':\n",
        "    N = int(input())\n",
        "    listA = []\n",
        "    for _ in range(N):\n",
        "        command = input().split()\n",
        "        action = command[0]\n",
        "        if action == \"insert\":\n",
        "            i = int(command[1])\n",
        "            e = int(command[2])\n",
        "            listA.insert(i, e)\n",
        "        elif action == \"print\":\n",
        "            print(listA)\n",
        "        elif action == \"remove\":\n",
        "            e = int(command[1])\n",
        "            listA.remove(e)\n",
        "        elif action == \"append\":\n",
        "            e = int(command[1])\n",
        "            listA.append(e)\n",
        "        elif action == \"sort\":\n",
        "            listA.sort()\n",
        "        elif action == \"pop\":\n",
        "            listA.pop()\n",
        "        elif action == \"reverse\":\n",
        "            listA.reverse()\n",
        "\n"
      ],
      "metadata": {
        "colab": {
          "base_uri": "https://localhost:8080/"
        },
        "id": "VRg5pEO5ZuyZ",
        "outputId": "2128ecd1-ea9c-4b82-8d73-bab532c0e62d"
      },
      "execution_count": null,
      "outputs": [
        {
          "output_type": "stream",
          "name": "stdout",
          "text": [
            "12\n",
            "insert 0 5\n",
            "insert 1 10\n",
            "insert 0 6\n",
            "print\n",
            "[6, 5, 10]\n",
            "remove 6\n",
            "append 9\n",
            "append 1\n",
            "sort\n",
            "print\n",
            "[1, 5, 9, 10]\n",
            "pop\n",
            "reverse\n",
            "print\n",
            "[9, 5, 1]\n"
          ]
        }
      ]
    },
    {
      "cell_type": "markdown",
      "source": [
        "**sWAP cASE:**\n",
        "\n",
        "You are given a string and your task is to swap cases. In other words, convert all lowercase letters to uppercase letters and vice versa.\n",
        "\n",
        "For Example:\n",
        "\n",
        "Www.HackerRank.com → wWW.hACKERrANK.COM\n",
        "Pythonist 2 → pYTHONIST 2  \n",
        "Function Description\n",
        "\n",
        "Complete the swap_case function in the editor below.\n",
        "\n",
        "swap_case has the following parameters:\n",
        "\n",
        "string s: the string to modify\n",
        "Returns\n",
        "\n",
        "string: the modified string\n",
        "Input Format\n",
        "\n",
        "A single line containing a string s."
      ],
      "metadata": {
        "id": "dt66HT-Bc72J"
      }
    },
    {
      "cell_type": "code",
      "source": [
        "def swap_case(s):\n",
        "    return s.swapcase()\n",
        "\n",
        "if __name__ == '__main__':\n",
        "    s = input()\n",
        "    result = swap_case(s)\n",
        "    print(result)\n"
      ],
      "metadata": {
        "colab": {
          "base_uri": "https://localhost:8080/"
        },
        "id": "lHmb9I3Rc79F",
        "outputId": "28747b9a-d201-49f7-a13e-241a5c0cfba8"
      },
      "execution_count": null,
      "outputs": [
        {
          "output_type": "stream",
          "name": "stdout",
          "text": [
            "HackerRank.com presents \"Pythonist 2\".\n",
            "hACKERrANK.COM PRESENTS \"pYTHONIST 2\".\n"
          ]
        }
      ]
    },
    {
      "cell_type": "markdown",
      "source": [
        "**String Split and Join:**\n",
        "\n",
        "In Python, a string can be split on a delimiter.\n",
        "\n",
        "Example:\n",
        "\n",
        ">>> a = \"this is a string\"\n",
        ">>> a = a.split(\" \") # a is converted to a list of strings.\n",
        ">>> print a\n",
        "['this', 'is', 'a', 'string']\n",
        "Joining a string is simple:\n",
        "\n",
        ">>> a = \"-\".join(a)\n",
        ">>> print a\n",
        "this-is-a-string\n",
        "Task\n",
        "You are given a string. Split the string on a \" \" (space) delimiter and join using a - hyphen.\n",
        "\n",
        "Function Description\n",
        "\n",
        "Complete the split_and_join function in the editor below.\n",
        "\n",
        "split_and_join has the following parameters:\n",
        "\n",
        "string line: a string of space-separated words\n",
        "Returns\n",
        "\n",
        "string: the resulting string\n",
        "Input Format\n",
        "The one line contains a string consisting of space separated words."
      ],
      "metadata": {
        "id": "Sc9tcSf4eQx6"
      }
    },
    {
      "cell_type": "code",
      "source": [
        "def split_and_join(line):\n",
        "    words = line.split(\" \")\n",
        "    return \"-\".join(words)\n",
        "\n",
        "if __name__ == '__main__':\n",
        "    line = input()\n",
        "    result = split_and_join(line)\n",
        "    print(result)"
      ],
      "metadata": {
        "colab": {
          "base_uri": "https://localhost:8080/"
        },
        "id": "NTc5nxSxeQ5y",
        "outputId": "6cb42c0f-6c01-4655-8224-aec201a92f00"
      },
      "execution_count": null,
      "outputs": [
        {
          "output_type": "stream",
          "name": "stdout",
          "text": [
            "this is a string\n",
            "this-is-a-string\n"
          ]
        }
      ]
    },
    {
      "cell_type": "markdown",
      "source": [
        "**Mutations:**\n",
        "\n",
        "You are given an immutable string, and you want to make changes to it.\n",
        "\n",
        "Example\n",
        "\n",
        ">>> string = \"abracadabra\"\n",
        "You can access an index by:\n",
        "\n",
        ">>> print string[5]\n",
        "a\n",
        "What if you would like to assign a value?\n",
        "\n",
        ">>> string[5] = 'k'\n",
        "Traceback (most recent call last):\n",
        "  File \"<stdin>\", line 1, in <module>\n",
        "TypeError: 'str' object does not support item assignment\n",
        "How would you approach this?\n",
        "\n",
        "One solution is to convert the string to a list and then change the value.\n",
        "Example\n",
        "\n",
        ">>> string = \"abracadabra\"\n",
        ">>> l = list(string)\n",
        ">>> l[5] = 'k'\n",
        ">>> string = ''.join(l)\n",
        ">>> print string\n",
        "abrackdabra\n",
        "Another approach is to slice the string and join it back.\n",
        "Example\n",
        "\n",
        ">>> string = string[:5] + \"k\" + string[6:]\n",
        ">>> print string\n",
        "abrackdabra\n",
        "Task\n",
        "Read a given string, change the character at a given index and then print the modified string.\n",
        "Function Description\n",
        "\n",
        "Complete the mutate_string function in the editor below.\n",
        "\n",
        "mutate_string has the following parameters:\n",
        "\n",
        "string string: the string to change\n",
        "int position: the index to insert the character at\n",
        "string character: the character to insert\n",
        "Returns\n",
        "\n",
        "string: the altered string\n",
        "Input Format\n",
        "\n",
        "The first line contains a string, string.\n",
        "The next line contains an integer position, the index location and a string character, separated by a space."
      ],
      "metadata": {
        "id": "uVH-hwD1fW2M"
      }
    },
    {
      "cell_type": "code",
      "source": [
        "def mutate_string(string, position, character):\n",
        "    return string[:position] + character + string[position+1:]\n",
        "\n",
        "if __name__ == '__main__':\n",
        "    s = input()\n",
        "    i, c = input().split()\n",
        "    s_new = mutate_string(s, int(i), c)\n",
        "    print(s_new)"
      ],
      "metadata": {
        "colab": {
          "base_uri": "https://localhost:8080/"
        },
        "id": "j2n-SaD3fWU9",
        "outputId": "ecca24c7-351f-462c-ba36-e873c8f73f4a"
      },
      "execution_count": null,
      "outputs": [
        {
          "output_type": "stream",
          "name": "stdout",
          "text": [
            "abracadabra\n",
            "5 k\n",
            "abrackdabra\n"
          ]
        }
      ]
    },
    {
      "cell_type": "markdown",
      "source": [
        "**Find a string:**\n",
        "\n",
        "n this challenge, the user enters a string and a substring. You have to print the number of times that the substring occurs in the given string. String traversal will take place from left to right, not from right to left.\n",
        "\n",
        "NOTE: String letters are case-sensitive.\n",
        "\n",
        "Input Format\n",
        "\n",
        "The first line of input contains the original string. The next line contains the substring.\n",
        "\n",
        "\n",
        "Each character in the string is an ascii character.\n",
        "\n",
        "Output Format\n",
        "\n",
        "Output the integer number indicating the total number of occurrences of the substring in the original string.\n",
        "\n",
        "Sample Input\n",
        "\n",
        "ABCDCDC\n",
        "CDC\n",
        "Sample Output\n",
        "\n",
        "2\n"
      ],
      "metadata": {
        "id": "36dn40IaieD1"
      }
    },
    {
      "cell_type": "code",
      "source": [
        "def count_substring(string, sub_string):\n",
        "    count = 0\n",
        "    txtlen = len(sub_string)\n",
        "    for i in range(len(string) - txtlen + 1):\n",
        "        if string[i:i+txtlen] == sub_string:\n",
        "            count += 1\n",
        "    return count\n",
        "\n",
        "if __name__ == '__main__':\n",
        "    string = input().strip()\n",
        "    sub_string = input().strip()\n",
        "\n",
        "    count = count_substring(string, sub_string)\n",
        "    print(count)"
      ],
      "metadata": {
        "colab": {
          "base_uri": "https://localhost:8080/"
        },
        "id": "3UVrrJ9RieLE",
        "outputId": "31b6329a-2847-44be-e489-6cc94eba5494"
      },
      "execution_count": null,
      "outputs": [
        {
          "output_type": "stream",
          "name": "stdout",
          "text": [
            "ABCDCDC\n",
            "CDC\n",
            "2\n"
          ]
        }
      ]
    },
    {
      "cell_type": "markdown",
      "source": [
        "**Text Wrap:**\n",
        "\n",
        "You are given a string S and width w.\n",
        "Your task is to wrap the string into a paragraph of width w.\n",
        "\n",
        "Function Description\n",
        "\n",
        "Complete the wrap function in the editor below.\n",
        "\n",
        "wrap has the following parameters:\n",
        "\n",
        "string string: a long string\n",
        "int max_width: the width to wrap to\n",
        "Returns\n",
        "\n",
        "string: a single string with newline characters ('\\n') where the breaks should be\n",
        "Input Format\n",
        "\n",
        "The first line contains a string, string.\n",
        "The second line contains the width, maxwidth."
      ],
      "metadata": {
        "id": "7hrHGJOrlPYG"
      }
    },
    {
      "cell_type": "code",
      "source": [
        "import textwrap\n",
        "def wrap(string, max_width):\n",
        "    return textwrap.fill(string, max_width)\n",
        "if __name__ == '__main__':\n",
        "    string, max_width = input(), int(input())\n",
        "    result = wrap(string, max_width)\n",
        "    print(result)"
      ],
      "metadata": {
        "colab": {
          "base_uri": "https://localhost:8080/"
        },
        "id": "CHv-h7sAlPdA",
        "outputId": "49e9b3ee-5a10-4228-e786-a0b0a8c1d7f6"
      },
      "execution_count": null,
      "outputs": [
        {
          "output_type": "stream",
          "name": "stdout",
          "text": [
            "ABCDEFGHIJKLIMNOQRSTUVWXYZ\n",
            "4\n",
            "ABCD\n",
            "EFGH\n",
            "IJKL\n",
            "IMNO\n",
            "QRST\n",
            "UVWX\n",
            "YZ\n"
          ]
        }
      ]
    },
    {
      "cell_type": "markdown",
      "source": [
        "**Calender Module:**\n",
        "\n",
        "You are given a date. Your task is to find what the day is on that date.\n",
        "\n",
        "Input Format\n",
        "\n",
        "A single line of input containing the space separated month, day and year, respectively, in MM DD YYYY format.\n",
        "\n",
        "Output Format\n",
        "\n",
        "Output the correct day in capital letters."
      ],
      "metadata": {
        "id": "CMvl5-NHmMTl"
      }
    },
    {
      "cell_type": "code",
      "source": [
        "import calendar\n",
        "a = str(input())\n",
        "a = a.split(\" \")\n",
        "print((calendar.day_name[calendar.weekday(int(a[2]), int(a[0]), int(a[1]))]).upper())"
      ],
      "metadata": {
        "colab": {
          "base_uri": "https://localhost:8080/"
        },
        "id": "QNFPUu57mMZG",
        "outputId": "582eddc8-9b49-413b-b2fe-8ea2c5c5567d"
      },
      "execution_count": null,
      "outputs": [
        {
          "output_type": "stream",
          "name": "stdout",
          "text": [
            "08 05 2015\n",
            "WEDNESDAY\n"
          ]
        }
      ]
    },
    {
      "cell_type": "markdown",
      "source": [
        "**Divmod:**\n",
        "\n",
        "Read in two integers, a and b, and print three lines.\n",
        "The first line is the integer division a//b (While using Python2 remember to import division from __future__).\n",
        "The second line is the result of the modulo operator: a%b.\n",
        "The third line prints the divmod of a and b.\n",
        "\n",
        "Input Format\n",
        "The first line contains the first integer, a, and the second line contains the second integer, b."
      ],
      "metadata": {
        "id": "4L2CDcb7pImD"
      }
    },
    {
      "cell_type": "code",
      "source": [
        "a = int(input())\n",
        "b = int(input())\n",
        "print(a//b)\n",
        "print(a%b)\n",
        "print(divmod(a,b))"
      ],
      "metadata": {
        "colab": {
          "base_uri": "https://localhost:8080/"
        },
        "id": "WJSVtYLcpItu",
        "outputId": "a94048b5-7eaa-47b3-df3c-3a79681d9c36"
      },
      "execution_count": null,
      "outputs": [
        {
          "output_type": "stream",
          "name": "stdout",
          "text": [
            "177\n",
            "10\n",
            "17\n",
            "7\n",
            "(17, 7)\n"
          ]
        }
      ]
    },
    {
      "cell_type": "markdown",
      "source": [
        "**Set.add():**\n",
        "\n",
        "Apply your knowledge of the .add() operation to help your friend Rupal.\n",
        "\n",
        "Rupal has a huge collection of country stamps. She decided to count the total number of distinct country stamps in her collection. She asked for your help. You pick the stamps one by one from a stack of N country stamps.\n",
        "\n",
        "Find the total number of distinct country stamps.\n",
        "\n",
        "Input Format\n",
        "\n",
        "The first line contains an integer N, the total number of country stamps.\n",
        "The next N lines contains the name of the country where the stamp is from.\n",
        "\n",
        "Output Format\n",
        "Output the total number of distinct country stamps on a single line."
      ],
      "metadata": {
        "id": "LcIRiY_qBT8D"
      }
    },
    {
      "cell_type": "code",
      "source": [
        "if __name__ == '__main__':\n",
        "    n = int(input().strip())\n",
        "    stamps = set()\n",
        "    for _ in range(n):\n",
        "        stamp = input().strip()\n",
        "        stamps.add(stamp)\n",
        "    print(len(stamps))"
      ],
      "metadata": {
        "colab": {
          "base_uri": "https://localhost:8080/"
        },
        "id": "VDWTj5V4BULR",
        "outputId": "c70c84e0-d32f-49da-a61c-a7f61ba0060d"
      },
      "execution_count": null,
      "outputs": [
        {
          "output_type": "stream",
          "name": "stdout",
          "text": [
            "7\n",
            "UK\n",
            "China\n",
            "USA\n",
            "France\n",
            "New Zealand\n",
            "UK\n",
            "France\n",
            "5\n"
          ]
        }
      ]
    },
    {
      "cell_type": "markdown",
      "source": [
        "**Power - Mod Power:**\n",
        "\n",
        "You are given three integers: , , and . Print two lines.\n",
        "On the first line, print the result of pow(a,b). On the second line, print the result of pow(a,b,m).\n",
        "\n",
        "Input Format\n",
        "The first line contains , the second line contains , and the third line contains ."
      ],
      "metadata": {
        "id": "N4VlvG4pGJ2Y"
      }
    },
    {
      "cell_type": "code",
      "source": [
        "def main():\n",
        "    a = int(input())\n",
        "    b = int(input())\n",
        "    m = int(input())\n",
        "    print(pow(a, b))\n",
        "    print(pow(a, b, m))\n",
        "if __name__ == '__main__':\n",
        "    main()"
      ],
      "metadata": {
        "colab": {
          "base_uri": "https://localhost:8080/"
        },
        "id": "vGsdaR6tGJ8c",
        "outputId": "d7d4b618-c53e-4441-a624-99f2004d1e50"
      },
      "execution_count": null,
      "outputs": [
        {
          "output_type": "stream",
          "name": "stdout",
          "text": [
            "3\n",
            "4\n",
            "5\n",
            "81\n",
            "1\n"
          ]
        }
      ]
    },
    {
      "cell_type": "markdown",
      "source": [
        "**Find the Runner-Up Score!:**\n",
        "\n",
        "Given the participants' score sheet for your University Sports Day, you are required to find the runner-up score. You are given n scores. Store them in a list and find the score of the runner-up.\n",
        "\n",
        "Input Format\n",
        "\n",
        "The first line contains n. The second line contains an array A[ ] of n integers each separated by a space.\n",
        "\n",
        "Output Format\n",
        "\n",
        "Print the runner-up score."
      ],
      "metadata": {
        "id": "USMZ_1M3GqOI"
      }
    },
    {
      "cell_type": "code",
      "source": [
        "if __name__ == '__main__':\n",
        "    n = int(input())\n",
        "    arr = list(map(int, input().split()))\n",
        "    sorted_scores = sorted(set(arr), reverse=True)\n",
        "    runner_up_score = sorted_scores[1]\n",
        "    print(runner_up_score)"
      ],
      "metadata": {
        "colab": {
          "base_uri": "https://localhost:8080/"
        },
        "id": "V7XClHDsGqUN",
        "outputId": "0253148a-d63c-4cb0-96d8-544731eb507d"
      },
      "execution_count": null,
      "outputs": [
        {
          "output_type": "stream",
          "name": "stdout",
          "text": [
            "5\n",
            "2 3 6 6 5\n",
            "5\n"
          ]
        }
      ]
    }
  ]
}